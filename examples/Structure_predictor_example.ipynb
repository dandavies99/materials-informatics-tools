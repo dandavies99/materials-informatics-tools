{
 "cells": [
  {
   "cell_type": "markdown",
   "metadata": {},
   "source": [
    "This example gets down all structures that have an ICSD ID in the Materials Project first.\n",
    "It also uses multiprocessing to speed up the step of adding oxidation states. "
   ]
  },
  {
   "cell_type": "code",
   "execution_count": 3,
   "metadata": {},
   "outputs": [],
   "source": [
    "from pymatgen.analysis.structure_prediction.substitutor import Substitutor\n",
    "from pymatgen import Specie, Element\n",
    "from smact import ordered_elements\n",
    "from itertools import product\n",
    "from multiprocessing import Pool\n",
    "\n",
    "from functions.structure_predictor import decorate_structures"
   ]
  },
  {
   "cell_type": "code",
   "execution_count": 4,
   "metadata": {},
   "outputs": [],
   "source": [
    "import os\n",
    "# You need to put your own MP API key in here\n",
    "from pymatgen import MPRester\n",
    "mp = MPRester(os.environ.get('MP_API_KEY'))"
   ]
  },
  {
   "cell_type": "markdown",
   "metadata": {},
   "source": [
    "## Get a pool of oxidation state-decorated structures"
   ]
  },
  {
   "cell_type": "code",
   "execution_count": 5,
   "metadata": {},
   "outputs": [
    {
     "name": "stderr",
     "output_type": "stream",
     "text": [
      "100%|██████████| 48669/48669 [05:58<00:00, 81.73it/s]"
     ]
    }
   ],
   "source": [
    "# Get parent structures down from materials project\n",
    "criteria = {'icsd_ids.0': {'$exists': True}}\n",
    "properties = ['structure']\n",
    "parent_structures = mp.query(criteria,properties)\n",
    "structures_list = [i['structure'] for i in parent_structures]"
   ]
  },
  {
   "cell_type": "code",
   "execution_count": 111,
   "metadata": {},
   "outputs": [
    {
     "name": "stdout",
     "output_type": "stream",
     "text": [
      "641  out of 1000 structures successfully decorated with oxidation states\n"
     ]
    }
   ],
   "source": [
    "decorated_strucs = decorate_structures(structures_list[:1000])\n",
    "# Get rid of Nones for next step\n",
    "decorated_strucs = [i for i in decorated_strucs if i is not None]"
   ]
  },
  {
   "cell_type": "markdown",
   "metadata": {},
   "source": [
    "## Set up some more preliminaries"
   ]
  },
  {
   "cell_type": "code",
   "execution_count": 112,
   "metadata": {},
   "outputs": [],
   "source": [
    "# Set up substitutor\n",
    "sub = Substitutor(threshold=1E-6)\n",
    "# Get decorated structures into list of dicts (requried by substitutor)\n",
    "decorated_strucs = [{'structure': i, 'id': n} for n,i in enumerate(decorated_strucs)]"
   ]
  },
  {
   "cell_type": "code",
   "execution_count": 113,
   "metadata": {},
   "outputs": [],
   "source": [
    "def predict_struc_helper(species_set):\n",
    "    suggested_strucs = sub.pred_from_structures(target_species=species_set,\n",
    "                                               structures_list = decorated_strucs)\n",
    "    return(suggested_strucs)"
   ]
  },
  {
   "cell_type": "markdown",
   "metadata": {},
   "source": [
    "## Find crystal structures for a single set of species"
   ]
  },
  {
   "cell_type": "code",
   "execution_count": 114,
   "metadata": {},
   "outputs": [
    {
     "name": "stdout",
     "output_type": "stream",
     "text": [
      " 11 structures found!\n"
     ]
    }
   ],
   "source": [
    "# Use decorated structures as a pool for the structure predictor\n",
    "species_of_interest = [Specie('Fe',3), Specie('Cu',2), Specie('S', -2)]\n",
    "suggested_strucs = predict_struc_helper(species_of_interest)\n",
    "print(\" {} structures found!\".format(len(suggested_strucs)))"
   ]
  },
  {
   "cell_type": "markdown",
   "metadata": {},
   "source": [
    "## Find crystal structures for many species"
   ]
  },
  {
   "cell_type": "code",
   "execution_count": 115,
   "metadata": {},
   "outputs": [
    {
     "name": "stdout",
     "output_type": "stream",
     "text": [
      "594 sets of species to consider\n"
     ]
    }
   ],
   "source": [
    "# Generate a bunch of species combinations\n",
    "metals, anions = ordered_elements(21,30), ['F', 'Cl', 'Br']\n",
    "combos = list(product(metals,metals,anions))\n",
    "combos = [i for i in combos if i[0] is not i[1]]\n",
    "\n",
    "species_list = []\n",
    "for i in combos:\n",
    "    metal1, metal2 = Element(i[0]), Element(i[1])\n",
    "    for j in product(metal1.common_oxidation_states, metal2.common_oxidation_states):\n",
    "        sp1 = Specie(i[0], j[0])\n",
    "        sp2 = Specie(i[1], j[1])\n",
    "        sp3 = Specie(i[2], -1)\n",
    "        species_list.append([sp1, sp2, sp3])\n",
    "print(\"{} sets of species to consider\".format(len(species_list)))"
   ]
  },
  {
   "cell_type": "code",
   "execution_count": 116,
   "metadata": {},
   "outputs": [],
   "source": [
    "if __name__ == '__main__':\n",
    "    with Pool(processes=8) as pool:\n",
    "        all_predicted_structures = pool.map(predict_struc_helper, species_list)"
   ]
  },
  {
   "cell_type": "markdown",
   "metadata": {},
   "source": [
    "# TODO save "
   ]
  },
  {
   "cell_type": "code",
   "execution_count": null,
   "metadata": {},
   "outputs": [],
   "source": []
  }
 ],
 "metadata": {
  "kernelspec": {
   "display_name": "Python 3",
   "language": "python",
   "name": "python3"
  },
  "language_info": {
   "codemirror_mode": {
    "name": "ipython",
    "version": 3
   },
   "file_extension": ".py",
   "mimetype": "text/x-python",
   "name": "python",
   "nbconvert_exporter": "python",
   "pygments_lexer": "ipython3",
   "version": "3.6.8"
  }
 },
 "nbformat": 4,
 "nbformat_minor": 2
}
