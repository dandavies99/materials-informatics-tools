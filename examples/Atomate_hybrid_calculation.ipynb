{
 "cells": [
  {
   "cell_type": "code",
   "execution_count": 1,
   "metadata": {},
   "outputs": [],
   "source": [
    "import json\n",
    "from pymatgen import Structure\n",
    "from fireworks import Workflow\n",
    "from atomate.vasp.fireworks.core import StaticFW\n",
    "from pymatgen.io.vasp.sets import MPHSEBSSet\n",
    "from atomate.vasp.powerups import add_modify_incar, add_additional_fields_to_taskdocs,\\\n",
    "add_small_gap_multiply, add_priority\n",
    "from fireworks import LaunchPad"
   ]
  },
  {
   "cell_type": "code",
   "execution_count": 2,
   "metadata": {},
   "outputs": [],
   "source": [
    "# Connect to launchpad (need to input details for your mongoDB\n",
    "launchpad = LaunchPad(host=\"<<HOST>>\", port=12345,\n",
    "                      username=\"<<USER>>\", password=\"<<PASSWORD>>\", \n",
    "                      name=\"<<DB-NAME>>\")"
   ]
  },
  {
   "cell_type": "code",
   "execution_count": null,
   "metadata": {},
   "outputs": [],
   "source": [
    "# Import structrures from json\n",
    "with open('data/example_input_structures.json', 'r') as f:\n",
    "    structures = json.load(f)\n",
    "    \n",
    "# Convert to to pymatgen Structure objects\n",
    "structures = [{'structure': Structure.from_dict(i['structure']), 'prototype_number': i['prototype_number']} \n",
    "                             for i in structures]\n",
    "\n",
    "print(len(structures))"
   ]
  },
  {
   "cell_type": "code",
   "execution_count": 105,
   "metadata": {},
   "outputs": [],
   "source": [
    "# We define our own workflow, modifying the existing StaticFW firework\n",
    "# and using the MPHSEBSSet as a vasp input set. \n",
    "# We are using kpoints reciprocal_density of 120, 20% more than used for MP static calcs\n",
    "# (which in turn are 50% more than are used for MP relaxations)\n",
    "def get_HSE_singleshot_wf(structure, name=\"HSE gap wf\", vasp_input_set=None,\n",
    "                    vasp_cmd=\">>vasp_cmd<<\", db_file=\">>db_file<<\", user_kpoints_settings=None,\n",
    "                    tag=\"\", metadata=None):\n",
    "    \"\"\"\n",
    "    Returns a simple HSE gap workflow.\n",
    "\n",
    "    Args:\n",
    "        structure (Structure): input structure to be optimized and run\n",
    "        name (str): some appropriate name for the transmuter fireworks.\n",
    "        vasp_input_set (DictSet): vasp input set.\n",
    "        vasp_cmd (str): command to run\n",
    "        db_file (str): path to file containing the database credentials.\n",
    "        user_kpoints_settings (dict): example: {\"grid_density\": 7000}\n",
    "        tag (str): some unique string that will be appended to the names of the fireworks so that\n",
    "            the data from those tagged fireworks can be queried later during the analysis.\n",
    "        metadata (dict): meta data\n",
    "\n",
    "    Returns:\n",
    "        Workflow\n",
    "    \"\"\"\n",
    "    # input set for calculation\n",
    "    vis_default = vasp_input_set or MPHSEBSSet(structure, mode='uniform', \n",
    "                                               user_kpoints_settings={\"reciprocal_density\": 120},\n",
    "                                              copy_chgcar=False)\n",
    "    if user_kpoints_settings:\n",
    "        v = vis_default.as_dict()\n",
    "        v.update({\"user_kpoints_settings\": user_kpoints_settings})\n",
    "        vis_default = vis_default.__class__.from_dict(v)\n",
    "\n",
    "    # Static firework\n",
    "    fws = [StaticFW(structure=structure, vasp_input_set=vis_default, vasp_cmd=vasp_cmd,\n",
    "                      db_file=db_file, name=\"{} hybrid single shot\".format(tag))]\n",
    "\n",
    "    wfname = \"{}:{}\".format(structure.composition.reduced_formula, name)\n",
    "\n",
    "    return Workflow(fws, name=wfname, metadata=metadata)"
   ]
  },
  {
   "cell_type": "code",
   "execution_count": 106,
   "metadata": {},
   "outputs": [
    {
     "name": "stdout",
     "output_type": "stream",
     "text": [
      "2019-06-05 12:16:35,934 INFO Added a workflow. id_map: {-29: 48}\n",
      "2019-06-05 12:16:35,941 INFO Added a workflow. id_map: {-30: 49}\n",
      "2019-06-05 12:16:35,952 INFO Added a workflow. id_map: {-31: 50}\n",
      "2019-06-05 12:16:35,965 INFO Added a workflow. id_map: {-32: 51}\n",
      "2019-06-05 12:16:35,971 INFO Added a workflow. id_map: {-33: 52}\n"
     ]
    }
   ],
   "source": [
    "for entry in structures:\n",
    "    struct = entry['structure']\n",
    "    \n",
    "    # Suss out f orbitals\n",
    "    comp = struct.composition\n",
    "    atomic_numbers = [i.number for i in comp]\n",
    "    if max(atomic_numbers) > 56:\n",
    "        HFLMAX = 6\n",
    "    else:\n",
    "        HFLMAX = 4\n",
    "    \n",
    "    orig_wf = get_HSE_singleshot_wf(struct)\n",
    "    modified_wf = add_modify_incar(orig_wf, modify_incar_params={'incar_update':\n",
    "                                                                 { 'NWRITE': 2, 'ISTART': 1, 'INIWAV': 1,\n",
    "                                                                 'NCORE': 8, 'KPAR': 4, 'HFSCREEN':0.207,\n",
    "                                                                 'PREC': 'Accurate', 'ALGO': 'All',\n",
    "                                                                  'ENCUT': 550,\n",
    "                                                                  'EDIFF': 1E-6, 'GGA': 'PE',\n",
    "                                                                  'LASPH': '.TRUE.', 'LREAL': 'Auto',\n",
    "                                                                  'ADDGRID': '.TRUE.',\n",
    "                                                                  'ISYM': 3,\n",
    "                                                                  'ISMEAR': 0, 'SIGMA': 0.05,\n",
    "                                                                  'LORBIT': 11, 'NEDOS': 3000,\n",
    "                                                                  'HFLMAX': HFLMAX\n",
    "                                                                   }})\n",
    "    \n",
    "    \n",
    "    modified_wf = add_priority(modified_wf, 1000)\n",
    "    launchpad.add_wf(modified_wf)"
   ]
  },
  {
   "cell_type": "code",
   "execution_count": null,
   "metadata": {},
   "outputs": [],
   "source": []
  }
 ],
 "metadata": {
  "kernelspec": {
   "display_name": "Python 3",
   "language": "python",
   "name": "python3"
  },
  "language_info": {
   "codemirror_mode": {
    "name": "ipython",
    "version": 3
   },
   "file_extension": ".py",
   "mimetype": "text/x-python",
   "name": "python",
   "nbconvert_exporter": "python",
   "pygments_lexer": "ipython3",
   "version": "3.6.8"
  }
 },
 "nbformat": 4,
 "nbformat_minor": 2
}
