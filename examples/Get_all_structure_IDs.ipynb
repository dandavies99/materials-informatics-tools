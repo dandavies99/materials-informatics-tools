{
 "cells": [
  {
   "cell_type": "markdown",
   "metadata": {},
   "source": [
    "# Download the structures in the materials project\n",
    "The MP API is super useful, but sometimes it can be handy to have a local set of task IDs saved for a specific purpose. For example: \n",
    "- If you want to be 100% sure the results from a study are repeatable, you can ensure that only entries that were present in the Materials Project at the time of publication are used in an analysis script.\n",
    "- The MP can be queried based on a list of task IDs."
   ]
  },
  {
   "cell_type": "code",
   "execution_count": 3,
   "metadata": {},
   "outputs": [],
   "source": [
    "from pymatgen import MPRester\n",
    "import os\n",
    "import json\n",
    "\n",
    "# Put your own API key in here (or set it as an environment variable like below)\n",
    "mpr = MPRester(os.environ.get('MP_API_KEY'))"
   ]
  },
  {
   "cell_type": "markdown",
   "metadata": {},
   "source": [
    "Below, we download the task_ids for all materials in the MP:"
   ]
  },
  {
   "cell_type": "code",
   "execution_count": 2,
   "metadata": {},
   "outputs": [
    {
     "data": {
      "application/vnd.jupyter.widget-view+json": {
       "model_id": "dc2412de65fb4f5c97764e0c998ae55a",
       "version_major": 2,
       "version_minor": 0
      },
      "text/plain": [
       "HBox(children=(IntProgress(value=0, max=132074), HTML(value='')))"
      ]
     },
     "metadata": {},
     "output_type": "display_data"
    },
    {
     "name": "stdout",
     "output_type": "stream",
     "text": [
      "MP-ids for 132074 structures downloaded\n"
     ]
    }
   ],
   "source": [
    "# Define our criteria: In this case anything goes\n",
    "entries = mpr.query({'task_id': {'$exists': True}}, [\"task_id\"])\n",
    "mp_ids = [e['task_id'] for e in entries]\n",
    "print('MP-ids for {} structures downloaded'.format(len(mp_ids)))"
   ]
  },
  {
   "cell_type": "markdown",
   "metadata": {},
   "source": [
    " Then we can save the list for later use :"
   ]
  },
  {
   "cell_type": "code",
   "execution_count": 4,
   "metadata": {},
   "outputs": [],
   "source": [
    "# Save IDs for saved structures, so you can\n",
    "# efficiently update later.\n",
    "with open('data/mp_ids.json', 'w') as f:\n",
    "    json.dump(mp_ids, f)"
   ]
  },
  {
   "cell_type": "markdown",
   "metadata": {},
   "source": [
    "Or perform a query of the MP based on the list of IDs:"
   ]
  },
  {
   "cell_type": "code",
   "execution_count": null,
   "metadata": {},
   "outputs": [
    {
     "data": {
      "application/vnd.jupyter.widget-view+json": {
       "model_id": "666e4e6aa08f48969f312b035ad8bda0",
       "version_major": 2,
       "version_minor": 0
      },
      "text/plain": [
       "HBox(children=(IntProgress(value=0, max=132074), HTML(value='')))"
      ]
     },
     "metadata": {},
     "output_type": "display_data"
    }
   ],
   "source": [
    "criteria = {'task_id': {'$in': mp_ids}}\n",
    "properties = ['task_id', 'pretty_formula']\n",
    "search_results = mpr.query(criteria, properties)\n",
    "print('formulas for {} structures downloaded'.format(len(search_results)))"
   ]
  }
 ],
 "metadata": {
  "kernelspec": {
   "display_name": "Python 3",
   "language": "python",
   "name": "python3"
  },
  "language_info": {
   "codemirror_mode": {
    "name": "ipython",
    "version": 3
   },
   "file_extension": ".py",
   "mimetype": "text/x-python",
   "name": "python",
   "nbconvert_exporter": "python",
   "pygments_lexer": "ipython3",
   "version": "3.6.8"
  }
 },
 "nbformat": 4,
 "nbformat_minor": 2
}
