{
 "cells": [
  {
   "cell_type": "markdown",
   "metadata": {},
   "source": [
    "# Competing phase generator\n",
    "Read in the compounds of interest and come up with a set of likely competing phases. \n",
    "\n",
    "1. The Materials Project database is used to estimate which points on the phase diagram need to be explicitly calculated for each compound.\n",
    "\n",
    "2. This list of competing phases is reduced to a minimum set and saved in a json file.\n",
    "\n",
    "Note: A similar workflow can be used after DFT calculations to construct phase diagrams with newly-calculated energies and get e_hull values."
   ]
  },
  {
   "cell_type": "code",
   "execution_count": 16,
   "metadata": {},
   "outputs": [],
   "source": [
    "import json\n",
    "from pymatgen import MPRester\n",
    "from pymatgen import Structure, Specie, Element, Composition\n",
    "from pymatgen.analysis.phase_diagram import PhaseDiagram, PDEntry\n",
    "import os\n",
    "from tqdm import tqdm\n",
    "\n",
    "from functions.competing_phases import get_competing, get_decomp_product_ids\n",
    "\n",
    "%load_ext autoreload\n",
    "%autoreload 2\n",
    "\n",
    "# Put your own API key in here (or set it as an environment variable like below)\n",
    "mpr = MPRester(os.environ.get('MP_API_KEY'))"
   ]
  },
  {
   "cell_type": "markdown",
   "metadata": {},
   "source": [
    "The input must be a list of dicts in which the key 'structure' is a pymatgen structure. We load these in and get them into a useful format below:"
   ]
  },
  {
   "cell_type": "code",
   "execution_count": 2,
   "metadata": {},
   "outputs": [
    {
     "name": "stdout",
     "output_type": "stream",
     "text": [
      "100 structures imported\n"
     ]
    }
   ],
   "source": [
    "# Load in the structures\n",
    "with open('data/example_input_structures.json', 'r') as f:\n",
    "    structures = json.load(f)\n",
    "\n",
    "# Convert back to pymatgen structure objects\n",
    "for i in structures:\n",
    "    i['structure'] = Structure.from_dict(i['structure'])\n",
    "    \n",
    "print(\"{} structures imported\".format(len(structures)))\n",
    "\n",
    "# Add \"chemsys\" key to dicts (unique elements in structure)\n",
    "for entry in structures:\n",
    "    entry['chemsys'] = set(entry['structure'].composition.element_composition.elements)"
   ]
  },
  {
   "cell_type": "markdown",
   "metadata": {},
   "source": [
    "We download stable structures from the MP database:"
   ]
  },
  {
   "cell_type": "code",
   "execution_count": 3,
   "metadata": {},
   "outputs": [
    {
     "data": {
      "application/vnd.jupyter.widget-view+json": {
       "model_id": "59c6541621354f5ea1e7debc70aa0f8f",
       "version_major": 2,
       "version_minor": 0
      },
      "text/plain": [
       "HBox(children=(IntProgress(value=0, max=34493), HTML(value='')))"
      ]
     },
     "metadata": {},
     "output_type": "display_data"
    }
   ],
   "source": [
    "# Download formulas and e_hull for all stable compounds in MP  (takes a couple of mins)\n",
    "criteria = {'e_above_hull': 0}\n",
    "properties = ['full_formula', 'task_id', 'final_energy']\n",
    "mp_db = mpr.query(criteria,properties)\n",
    "\n",
    "# Add \"chemsys\" key to mp_db\n",
    "for entry in mp_db:\n",
    "    entry['chemsys'] = set(Composition(entry['full_formula']).elements)"
   ]
  },
  {
   "cell_type": "markdown",
   "metadata": {},
   "source": [
    "We find competing phases for each structure by searching mp_db for entries with a relevant \"chemsys\" and creating phase diagram objects:"
   ]
  },
  {
   "cell_type": "code",
   "execution_count": 4,
   "metadata": {},
   "outputs": [
    {
     "name": "stderr",
     "output_type": "stream",
     "text": [
      "100%|██████████| 100/100 [00:00<00:00, 290.45it/s]\n"
     ]
    }
   ],
   "source": [
    "competing_phases_sets = []\n",
    "for struc in tqdm(structures):\n",
    "    competing_phases_sets.append(get_competing(struc, mp_db))"
   ]
  },
  {
   "cell_type": "code",
   "execution_count": 21,
   "metadata": {},
   "outputs": [
    {
     "name": "stdout",
     "output_type": "stream",
     "text": [
      "76 unique competing phases to calculate\n"
     ]
    }
   ],
   "source": [
    "all_decomp_prod_ids = get_decomp_product_ids(structures, competing_phases_sets)"
   ]
  },
  {
   "cell_type": "code",
   "execution_count": 23,
   "metadata": {},
   "outputs": [],
   "source": [
    "# Download the actual structures of the competing phases we are interested in and save\n",
    "criteria = {'task_id': {'$in': all_decomp_prod_ids}}\n",
    "properties = ['structure', 'task_id']\n",
    "competing_phase_structures = mpr.query(criteria, properties)\n",
    "\n",
    "# Save to a json file\n",
    "for struc in competing_phase_structures:\n",
    "    struc['structure'] = struc['structure'].as_dict()\n",
    "\n",
    "with open('data/competing_phases.json', 'w') as f:\n",
    "    json.dump(competing_phase_structures,f)"
   ]
  },
  {
   "cell_type": "code",
   "execution_count": null,
   "metadata": {},
   "outputs": [],
   "source": []
  }
 ],
 "metadata": {
  "kernelspec": {
   "display_name": "Python 3",
   "language": "python",
   "name": "python3"
  },
  "language_info": {
   "codemirror_mode": {
    "name": "ipython",
    "version": 3
   },
   "file_extension": ".py",
   "mimetype": "text/x-python",
   "name": "python",
   "nbconvert_exporter": "python",
   "pygments_lexer": "ipython3",
   "version": "3.6.8"
  }
 },
 "nbformat": 4,
 "nbformat_minor": 2
}
