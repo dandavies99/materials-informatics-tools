{
 "cells": [
  {
   "cell_type": "markdown",
   "metadata": {},
   "source": [
    "Use Pymatgen to generate some standard VASP input sets. \n",
    "\n",
    "This can be particularly useful if you have a high level of heterogeneity in a set of input structures (e.g. many different structure types or compositions). "
   ]
  },
  {
   "cell_type": "code",
   "execution_count": 2,
   "metadata": {},
   "outputs": [],
   "source": [
    "### Imports\n",
    "import os\n",
    "import json\n",
    "from tqdm import tqdm\n",
    "from pymatgen import Structure\n",
    "\n",
    "from pymatgen.io.vasp.sets import DictSet"
   ]
  },
  {
   "cell_type": "code",
   "execution_count": 10,
   "metadata": {},
   "outputs": [],
   "source": [
    "# Load in the structures\n",
    "with open('data/example_input_structures.json', 'r') as f:\n",
    "    structures = json.load(f)\n",
    "\n",
    "# Convert back to pymatgen structure objects\n",
    "for i in structures:\n",
    "    i['structure'] = Structure.from_dict(i['structure'])\n",
    "    \n",
    "# Load the calculation config we will use\n",
    "with open('data/calc_config_example.json', 'r') as f:\n",
    "    calc_config = json.load(f)"
   ]
  },
  {
   "cell_type": "markdown",
   "metadata": {},
   "source": [
    "We can see what the calculation config dict needs to look like. There is also a POTCAR dict which details which POTCAR to use for each element, should it appear in one of our structures. KPOINTS is defined as a reciprocal density. See the Pymatgen documentation for the many ways in which KPOINTS can be specified. "
   ]
  },
  {
   "cell_type": "code",
   "execution_count": 16,
   "metadata": {},
   "outputs": [
    {
     "name": "stdout",
     "output_type": "stream",
     "text": [
      "dict_keys(['INCAR', 'KPOINTS', 'POTCAR'])\n",
      "{'ALGO': 'NORMAL', 'EDIFF': 1e-06, 'EDIFFG': -0.005, 'ENCUT': 600, 'IBRION': 2, 'ICHARG': 1, 'ISIF': 3, 'ISMEAR': 0, 'ISPIN': 2, 'LORBIT': 10, 'LREAL': 'AUTO', 'LWAVE': False, 'NELM': 100, 'NSW': 99, 'PREC': 'Accurate', 'SIGMA': 0.1, 'NCORE': 16, 'KPAR': 4}\n",
      "{'reciprocal_density': 120}\n"
     ]
    }
   ],
   "source": [
    "print(calc_config.keys())\n",
    "print(calc_config['INCAR'])\n",
    "print(calc_config['KPOINTS'])"
   ]
  },
  {
   "cell_type": "markdown",
   "metadata": {},
   "source": [
    "Then we simply distribute the necessary files:"
   ]
  },
  {
   "cell_type": "code",
   "execution_count": 19,
   "metadata": {},
   "outputs": [],
   "source": [
    "for n, i in enumerate(structures):\n",
    "    dirname = 'data/example_calcs/{0}_{1}'.format(n, i['structure'].composition.reduced_formula)\n",
    "    if not os.path.exists(dirname):\n",
    "        os.makedirs(dirname)\n",
    "    \n",
    "    # Put candidate VASP files into dir\n",
    "    v  = DictSet(i['structure'], config_dict = calc_config)\n",
    "    v.write_input(dirname)"
   ]
  },
  {
   "cell_type": "markdown",
   "metadata": {},
   "source": [
    "Next steps: Copy the entire `dirname` directory to a HPC cluster and run the calcs. "
   ]
  },
  {
   "cell_type": "code",
   "execution_count": null,
   "metadata": {},
   "outputs": [],
   "source": []
  }
 ],
 "metadata": {
  "kernelspec": {
   "display_name": "Python 3",
   "language": "python",
   "name": "python3"
  },
  "language_info": {
   "codemirror_mode": {
    "name": "ipython",
    "version": 3
   },
   "file_extension": ".py",
   "mimetype": "text/x-python",
   "name": "python",
   "nbconvert_exporter": "python",
   "pygments_lexer": "ipython3",
   "version": "3.6.8"
  }
 },
 "nbformat": 4,
 "nbformat_minor": 2
}
